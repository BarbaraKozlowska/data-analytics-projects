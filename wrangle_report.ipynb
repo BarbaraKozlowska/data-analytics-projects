{
 "cells": [
  {
   "cell_type": "markdown",
   "metadata": {},
   "source": [
    "## Reporting: wragle_report\n",
    "* Create a **300-600 word written report** called \"wrangle_report.pdf\" or \"wrangle_report.html\" that briefly describes your wrangling efforts. This is to be framed as an internal document."
   ]
  },
  {
   "cell_type": "markdown",
   "metadata": {},
   "source": [
    "Title: Wrangling Report - Internal Document\n",
    "\n",
    "Introduction:\n",
    "This report outlines the data wrangling efforts undertaken to clean and prepare the WeRateDogs Twitter archive data for analysis. The goal of this project was to assess, clean, and transform the data into a tidy and usable format, ensuring its quality and consistency. The data was collected through various sources, including Twitter's API, and comprises tweets and additional information related to dogs.\n",
    "\n",
    "Data Gathering:\n",
    "The data collection process involved downloading the WeRateDogs Twitter archive data, including tweet IDs, timestamps, text content, and various dog-related columns such as dog stages and names. Additionally, we queried the Twitter API using the Tweepy library to gather retweet count, favorite count, and JSON data for each tweet. Furthermore, we downloaded the tweet image prediction data from a provided link, which contained predictions for dog breeds present in the tweeted images.\n",
    "\n",
    "Data Assessment:\n",
    "Upon visual assessment, we identified several quality and tidiness issues. The 'archive' dataframe contained retweets, which we decided to exclude as we were interested only in original content. Additionally, the 'timestamp' column was in string format and needed conversion to datetime. The 'dog stages' columns were spread across separate columns, which should be combined into one categorical column. The 'name' column also had incorrect values like 'a' for names, suggesting data entry errors. In the 'predictions' dataframe, the prediction data was spread across multiple columns and needed to be organized.\n",
    "\n",
    "Data Cleaning:\n",
    "Data cleaning was performed systematically to address the issues discovered during the assessment. We removed retweets by dropping rows with non-null values in the 'retweeted_status_id' column. We converted the 'timestamp' column to the datetime data type. For the 'dog stages', we combined the separate columns into one, using a categorical data type for better representation. Incorrect 'name' values were corrected, and 'None' values were replaced with NaNs for consistency.\n",
    "\n",
    "For the 'predictions' dataframe, we melted the prediction columns ('p1', 'p2', 'p3') into a single column to specify the prediction number. This allowed us to create additional columns for the actual prediction, confidence, and whether it is a dog breed. We also standardized the capitalization of prediction labels.\n",
    "\n",
    "Data Transformation:\n",
    "We merged the cleaned 'archive' dataframe with the gathered 'tweet data' and 'predictions' dataframes, based on their common tweet IDs. This process combined the information from various sources into a comprehensive dataset. We then filtered the data to retain only tweets with valid images ('expanded_urls' not null) to meet our analysis requirements.\n",
    "\n",
    "Conclusion:\n",
    "The data wrangling efforts have resulted in a clean, tidy, and comprehensive dataset, ready for further analysis. The data is now devoid of retweets, and the timestamp and dog stage columns have appropriate data types. The prediction data is now organized in a structured format. The dataset can be effectively used for exploratory data analysis, insights extraction, and predictive modeling.\n",
    "\n",
    "This internal document serves as a record of the data wrangling process undertaken, ensuring transparency, reproducibility, and a strong foundation for the subsequent analytical stages. The clean dataset will enable us to make data-driven decisions and uncover valuable insights about WeRateDogs tweets and their associated content."
   ]
  }
 ],
 "metadata": {
  "kernelspec": {
   "display_name": "Python 3",
   "language": "python",
   "name": "python3"
  },
  "language_info": {
   "codemirror_mode": {
    "name": "ipython",
    "version": 3
   },
   "file_extension": ".py",
   "mimetype": "text/x-python",
   "name": "python",
   "nbconvert_exporter": "python",
   "pygments_lexer": "ipython3",
   "version": "3.6.3"
  }
 },
 "nbformat": 4,
 "nbformat_minor": 2
}
